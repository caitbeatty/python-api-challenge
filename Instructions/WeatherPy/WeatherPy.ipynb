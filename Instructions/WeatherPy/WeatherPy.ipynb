{
 "cells": [
  {
   "cell_type": "markdown",
   "metadata": {},
   "source": [
    "# WeatherPy\n",
    "----\n",
    "\n",
    "#### Note\n",
    "* Instructions have been included for each segment. You do not have to follow them exactly, but they are included to help you think through the steps."
   ]
  },
  {
   "cell_type": "code",
   "execution_count": 2,
   "metadata": {
    "scrolled": true
   },
   "outputs": [],
   "source": [
    "# Dependencies and Setup\n",
    "import matplotlib.pyplot as plt\n",
    "import pandas as pd\n",
    "import numpy as np\n",
    "import requests\n",
    "import time\n",
    "import scipy.stats as st\n",
    "from scipy import stats \n",
    "from scipy.stats import linregress\n",
    "from api_keys import weather_api_key\n",
    "\n",
    "# Import API key\n",
    "from api_keys import weather_api_key\n",
    "\n",
    "\n",
    "\n",
    "# Incorporated citipy to determine city based on latitude and longitude\n",
    "from citipy import citipy\n",
    "\n",
    "# Output File (CSV)\n",
    "output_data_file = \"output_data/cities.csv\"\n",
    "\n",
    "# Range of latitudes and longitudes\n",
    "lat_range = (-90, 90)\n",
    "lng_range = (-180, 180)"
   ]
  },
  {
   "cell_type": "markdown",
   "metadata": {},
   "source": [
    "## Generate Cities List"
   ]
  },
  {
   "cell_type": "code",
   "execution_count": 3,
   "metadata": {},
   "outputs": [
    {
     "data": {
      "text/plain": [
       "589"
      ]
     },
     "execution_count": 3,
     "metadata": {},
     "output_type": "execute_result"
    }
   ],
   "source": [
    "# List for holding lat_lngs and cities\n",
    "lat_lngs = []\n",
    "cities = []\n",
    "\n",
    "# Create a set of random lat and lng combinations\n",
    "lats = np.random.uniform(lat_range[0], lat_range[1], size=1500)\n",
    "lngs = np.random.uniform(lng_range[0], lng_range[1], size=1500)\n",
    "lat_lngs = zip(lats, lngs)\n",
    "\n",
    "# Identify nearest city for each lat, lng combination\n",
    "for lat_lng in lat_lngs:\n",
    "    city = citipy.nearest_city(lat_lng[0], lat_lng[1]).city_name\n",
    "    \n",
    "    # If the city is unique, then add it to a our cities list\n",
    "    if city not in cities:\n",
    "        cities.append(city)\n",
    "\n",
    "# Print the city count to confirm sufficient count\n",
    "len(cities)"
   ]
  },
  {
   "cell_type": "code",
   "execution_count": 4,
   "metadata": {},
   "outputs": [],
   "source": [
    "# Save config information\n",
    "url = \"http://api.openweathermap.org/data/2.5/weather?\"\n",
    "units = \"imperial\"\n",
    "\n",
    "\n",
    "# Build query URL\n",
    "query_url = f\"{url}appid={weather_api_key}&units={units}&q=\""
   ]
  },
  {
   "cell_type": "code",
   "execution_count": 8,
   "metadata": {},
   "outputs": [
    {
     "data": {
      "text/plain": [
       "{'coord': {'lon': -134.9692, 'lat': -23.1203},\n",
       " 'weather': [{'id': 500,\n",
       "   'main': 'Rain',\n",
       "   'description': 'light rain',\n",
       "   'icon': '10d'}],\n",
       " 'base': 'stations',\n",
       " 'main': {'temp': 77.49,\n",
       "  'feels_like': 80.51,\n",
       "  'temp_min': 77.49,\n",
       "  'temp_max': 77.49,\n",
       "  'pressure': 1016,\n",
       "  'humidity': 70,\n",
       "  'sea_level': 1016,\n",
       "  'grnd_level': 1013},\n",
       " 'visibility': 10000,\n",
       " 'wind': {'speed': 5.55, 'deg': 122},\n",
       " 'rain': {'1h': 0.26},\n",
       " 'clouds': {'all': 29},\n",
       " 'dt': 1612817889,\n",
       " 'sys': {'country': 'PF', 'sunrise': 1612795467, 'sunset': 1612842228},\n",
       " 'timezone': -32400,\n",
       " 'id': 4030556,\n",
       " 'name': 'Rikitea',\n",
       " 'cod': 200}"
      ]
     },
     "execution_count": 8,
     "metadata": {},
     "output_type": "execute_result"
    }
   ],
   "source": [
    "response = requests.get(query_url + city).json()\n",
    "response"
   ]
  },
  {
   "cell_type": "markdown",
   "metadata": {},
   "source": [
    "### Perform API Calls\n",
    "* Perform a weather check on each city using a series of successive API calls.\n",
    "* Include a print log of each city as it'sbeing processed (with the city number and city name).\n"
   ]
  },
  {
   "cell_type": "code",
   "execution_count": 103,
   "metadata": {
    "scrolled": true
   },
   "outputs": [
    {
     "name": "stdout",
     "output_type": "stream",
     "text": [
      "Processing Record 1 | antsohihy\n",
      "Processing Record 2 | avarua\n",
      "Processing Record 3 | bluff\n",
      "Processing Record 4 | hithadhoo\n",
      "Processing Record 5 | atuona\n",
      "Processing Record 6 | rikitea\n",
      "Processing Record 7 | bambous virieux\n",
      "Processing Record 8 | khandbari\n",
      "Processing Record 9 | upernavik\n",
      "Processing Record 10 | kavieng\n",
      "Processing Record 11 | calintaan\n",
      "Processing Record 12 | glendive\n",
      "Processing Record 13 | jamestown\n",
      "Processing Record 14 | granja\n",
      "Processing Record 15 | busselton\n",
      "Processing Record 16 | bosaso\n",
      "Processing Record 17 | myre\n",
      "Processing Record 18 | minab\n",
      "Processing Record 19 | butaritari\n",
      "Processing Record 20 | dikson\n",
      "Processing Record 21 | vaini\n",
      "Processing Record 22 | ushuaia\n",
      "Processing Record 23 | praia da vitoria\n",
      "Processing Record 24 | punta arenas\n",
      "Processing Record 25 | albany\n",
      "Processing Record 26 | chuy\n",
      "Processing Record 27 | mataura\n",
      "Processing Record 28 | qaanaaq\n",
      "Processing Record 29 | port elizabeth\n",
      "Processing Record 30 | husavik\n",
      "Processing Record 31 | fortuna\n",
      "City not found. Skipping...\n",
      "Processing Record 32 | kasli\n",
      "Processing Record 33 | mount isa\n",
      "Processing Record 34 | baruun-urt\n",
      "Processing Record 35 | new norfolk\n",
      "Processing Record 36 | leszno\n",
      "Processing Record 37 | panaba\n",
      "Processing Record 38 | hilo\n",
      "Processing Record 39 | iglino\n",
      "Processing Record 40 | lundazi\n",
      "Processing Record 41 | hermanus\n",
      "Processing Record 42 | mar del plata\n",
      "Processing Record 43 | ihosy\n",
      "Processing Record 44 | tasiilaq\n",
      "Processing Record 45 | geraldton\n",
      "Processing Record 46 | nata\n",
      "Processing Record 47 | cockburn town\n",
      "Processing Record 48 | verkhniye tatyshly\n",
      "Processing Record 49 | la romana\n",
      "Processing Record 50 | kieta\n",
      "Processing Record 51 | kodiak\n",
      "Processing Record 52 | cape town\n",
      "Processing Record 53 | boa vista\n",
      "Processing Record 54 | san jose\n",
      "Processing Record 55 | thompson\n",
      "Processing Record 56 | stornoway\n",
      "Processing Record 57 | barrow\n",
      "Processing Record 58 | cherskiy\n",
      "Processing Record 59 | ust-ilimsk\n",
      "Processing Record 60 | airai\n",
      "Processing Record 61 | norman wells\n",
      "City not found. Skipping...\n",
      "Processing Record 62 | ambulu\n",
      "Processing Record 63 | severo-kurilsk\n",
      "Processing Record 64 | carupano\n",
      "Processing Record 65 | makat\n",
      "City not found. Skipping...\n",
      "Processing Record 66 | nelson bay\n",
      "Processing Record 67 | east london\n",
      "Processing Record 68 | port lincoln\n",
      "City not found. Skipping...\n",
      "Processing Record 69 | mier\n",
      "Processing Record 70 | kapaa\n",
      "Processing Record 71 | esperance\n",
      "Processing Record 72 | selenduma\n",
      "Processing Record 73 | kaliua\n",
      "Processing Record 74 | arlit\n",
      "Processing Record 75 | yabrud\n",
      "Processing Record 76 | san patricio\n",
      "Processing Record 77 | ribeira grande\n",
      "Processing Record 78 | broken hill\n",
      "Processing Record 79 | forecariah\n",
      "Processing Record 80 | vredendal\n",
      "Processing Record 81 | palmer\n",
      "Processing Record 82 | grand-lahou\n",
      "Processing Record 83 | inta\n",
      "Processing Record 84 | georgetown\n",
      "Processing Record 85 | noyabrsk\n",
      "City not found. Skipping...\n",
      "City not found. Skipping...\n",
      "Processing Record 86 | port alfred\n",
      "Processing Record 87 | kununurra\n",
      "Processing Record 88 | rudbar\n",
      "Processing Record 89 | la palma\n",
      "Processing Record 90 | saint-philippe\n",
      "Processing Record 91 | mumbwa\n",
      "Processing Record 92 | yellowknife\n",
      "Processing Record 93 | provideniya\n",
      "Processing Record 94 | wilmington\n",
      "Processing Record 95 | tezu\n",
      "Processing Record 96 | zavodskoy\n",
      "Processing Record 97 | chapais\n",
      "Processing Record 98 | banda aceh\n",
      "Processing Record 99 | hobyo\n",
      "Processing Record 100 | ahipara\n",
      "Processing Record 101 | saint george\n",
      "City not found. Skipping...\n",
      "Processing Record 102 | maragogi\n",
      "Processing Record 103 | gunjur\n",
      "Processing Record 104 | oranjestad\n",
      "Processing Record 105 | touros\n",
      "Processing Record 106 | fairbanks\n",
      "Processing Record 107 | dukat\n",
      "Processing Record 108 | margosatubig\n",
      "Processing Record 109 | shiraz\n",
      "Processing Record 110 | longyearbyen\n",
      "City not found. Skipping...\n",
      "Processing Record 111 | luderitz\n",
      "Processing Record 112 | shatrovo\n",
      "Processing Record 113 | shimoda\n",
      "Processing Record 114 | salekhard\n",
      "Processing Record 115 | salalah\n",
      "Processing Record 116 | kruisfontein\n",
      "City not found. Skipping...\n",
      "Processing Record 117 | sambava\n",
      "Processing Record 118 | alofi\n",
      "City not found. Skipping...\n",
      "Processing Record 119 | mercedes\n",
      "Processing Record 120 | raudeberg\n",
      "Processing Record 121 | saquena\n",
      "Processing Record 122 | laramie\n",
      "Processing Record 123 | tuktoyaktuk\n",
      "Processing Record 124 | troitsko-pechorsk\n",
      "Processing Record 125 | aygut\n",
      "Processing Record 126 | shwebo\n",
      "Processing Record 127 | saskylakh\n",
      "Processing Record 128 | manicore\n",
      "Processing Record 129 | samarai\n",
      "Processing Record 130 | noda\n",
      "Processing Record 131 | swellendam\n",
      "Processing Record 132 | redmond\n",
      "Processing Record 133 | lisakovsk\n",
      "Processing Record 134 | odienne\n",
      "Processing Record 135 | trois-rivieres\n",
      "Processing Record 136 | debre tabor\n",
      "Processing Record 137 | sao joao da barra\n",
      "Processing Record 138 | taitung\n",
      "Processing Record 139 | zhezkazgan\n",
      "Processing Record 140 | carnarvon\n",
      "Processing Record 141 | halifax\n",
      "Processing Record 142 | diego de almagro\n",
      "Processing Record 143 | mackay\n",
      "Processing Record 144 | barinitas\n",
      "Processing Record 145 | barcelos\n",
      "Processing Record 146 | wanning\n",
      "Processing Record 147 | malartic\n",
      "Processing Record 148 | dubai\n",
      "Processing Record 149 | marabba\n",
      "Processing Record 150 | takaka\n",
      "Processing Record 151 | derzhavinsk\n",
      "Processing Record 152 | siderno\n",
      "Processing Record 153 | astoria\n",
      "Processing Record 154 | byron bay\n",
      "Processing Record 155 | hobart\n",
      "Processing Record 156 | tuatapere\n",
      "Processing Record 157 | enid\n",
      "Processing Record 158 | taoudenni\n",
      "Processing Record 159 | naliya\n",
      "Processing Record 160 | torbay\n",
      "Processing Record 161 | chokurdakh\n",
      "Processing Record 162 | gat\n",
      "Processing Record 163 | mocuba\n",
      "Processing Record 164 | port hawkesbury\n",
      "Processing Record 165 | puerto escondido\n",
      "Processing Record 166 | beyneu\n",
      "Processing Record 167 | satara\n",
      "Processing Record 168 | arraial do cabo\n",
      "Processing Record 169 | pangnirtung\n",
      "Processing Record 170 | aklavik\n",
      "Processing Record 171 | tual\n",
      "Processing Record 172 | ponta do sol\n",
      "Processing Record 173 | mahon\n",
      "Processing Record 174 | constitucion\n",
      "Processing Record 175 | sisimiut\n",
      "Processing Record 176 | sirnak\n",
      "Processing Record 177 | victoria\n",
      "Processing Record 178 | port hedland\n",
      "Processing Record 179 | vardo\n",
      "Processing Record 180 | pevek\n",
      "Processing Record 181 | gorontalo\n",
      "Processing Record 182 | tiksi\n",
      "Processing Record 183 | padang\n",
      "Processing Record 184 | marzuq\n",
      "Processing Record 185 | lebu\n",
      "City not found. Skipping...\n",
      "Processing Record 186 | nikolskoye\n",
      "Processing Record 187 | kirakira\n",
      "Processing Record 188 | shache\n",
      "Processing Record 189 | la asuncion\n",
      "Processing Record 190 | eureka\n",
      "Processing Record 191 | revelstoke\n",
      "Processing Record 192 | katsuura\n",
      "Processing Record 193 | nizwa\n",
      "Processing Record 194 | nantucket\n",
      "Processing Record 195 | laguna\n",
      "Processing Record 196 | the valley\n",
      "Processing Record 197 | saint-joseph\n",
      "Processing Record 198 | seymchan\n",
      "Processing Record 199 | yaan\n",
      "Processing Record 200 | grand gaube\n",
      "City not found. Skipping...\n",
      "Processing Record 201 | aljezur\n",
      "Processing Record 202 | bredasdorp\n",
      "Processing Record 203 | santa rosa\n",
      "Processing Record 204 | castro\n",
      "Processing Record 205 | nacogdoches\n",
      "City not found. Skipping...\n",
      "Processing Record 206 | mahebourg\n",
      "City not found. Skipping...\n",
      "Processing Record 207 | sonderso\n",
      "Processing Record 208 | iqaluit\n",
      "Processing Record 209 | leningradskiy\n",
      "City not found. Skipping...\n",
      "Processing Record 210 | yantal\n",
      "Processing Record 211 | maneromango\n",
      "Processing Record 212 | dauriya\n",
      "Processing Record 213 | sinnamary\n",
      "Processing Record 214 | vytegra\n",
      "Processing Record 215 | quesnel\n",
      "Processing Record 216 | krasnorechenskiy\n",
      "Processing Record 217 | lakes entrance\n",
      "Processing Record 218 | wasilla\n",
      "Processing Record 219 | hofn\n",
      "Processing Record 220 | diu\n",
      "Processing Record 221 | sand\n",
      "Processing Record 222 | olafsvik\n",
      "Processing Record 223 | saldanha\n",
      "Processing Record 224 | nanortalik\n",
      "Processing Record 225 | ermelo\n",
      "Processing Record 226 | kidal\n",
      "Processing Record 227 | salisbury\n",
      "Processing Record 228 | atambua\n",
      "Processing Record 229 | olot\n",
      "Processing Record 230 | xichang\n",
      "Processing Record 231 | suez\n",
      "Processing Record 232 | cairns\n",
      "Processing Record 233 | marawi\n",
      "Processing Record 234 | college\n",
      "City not found. Skipping...\n",
      "Processing Record 235 | devils lake\n",
      "Processing Record 236 | nandikotkur\n",
      "Processing Record 237 | kaitangata\n"
     ]
    },
    {
     "name": "stdout",
     "output_type": "stream",
     "text": [
      "Processing Record 238 | bethel\n",
      "Processing Record 239 | la ronge\n",
      "Processing Record 240 | emerald\n",
      "Processing Record 241 | pangkalanbuun\n",
      "City not found. Skipping...\n",
      "Processing Record 242 | timbo\n",
      "Processing Record 243 | vilhena\n",
      "Processing Record 244 | ancud\n",
      "Processing Record 245 | beringovskiy\n",
      "Processing Record 246 | port-gentil\n",
      "City not found. Skipping...\n",
      "Processing Record 247 | popova\n",
      "Processing Record 248 | chicama\n",
      "Processing Record 249 | guerrero negro\n",
      "Processing Record 250 | hibbing\n",
      "Processing Record 251 | korla\n",
      "City not found. Skipping...\n",
      "Processing Record 252 | klaksvik\n",
      "Processing Record 253 | kavaratti\n",
      "Processing Record 254 | cidreira\n",
      "Processing Record 255 | harindanga\n",
      "Processing Record 256 | tautira\n",
      "Processing Record 257 | tha mai\n",
      "Processing Record 258 | coolidge\n",
      "City not found. Skipping...\n",
      "Processing Record 259 | erenhot\n",
      "Processing Record 260 | mount gambier\n",
      "Processing Record 261 | sistranda\n",
      "Processing Record 262 | shitanjing\n",
      "Processing Record 263 | khatanga\n",
      "Processing Record 264 | dingle\n",
      "Processing Record 265 | weligama\n",
      "Processing Record 266 | khazar\n",
      "Processing Record 267 | la rioja\n",
      "Processing Record 268 | namatanai\n",
      "Processing Record 269 | lavrentiya\n",
      "Processing Record 270 | coahuayana\n",
      "Processing Record 271 | huanren\n",
      "Processing Record 272 | hervey bay\n",
      "Processing Record 273 | killam\n",
      "Processing Record 274 | souillac\n",
      "Processing Record 275 | monroe\n",
      "Processing Record 276 | porto novo\n",
      "Processing Record 277 | wawa\n",
      "Processing Record 278 | kahului\n",
      "Processing Record 279 | ugoofaaru\n",
      "Processing Record 280 | riyadh\n",
      "Processing Record 281 | petropavlovsk-kamchatskiy\n",
      "Processing Record 282 | toro\n",
      "Processing Record 283 | puerto ayora\n",
      "Processing Record 284 | comodoro rivadavia\n",
      "Processing Record 285 | buraydah\n",
      "Processing Record 286 | valdivia\n",
      "Processing Record 287 | jumla\n",
      "Processing Record 288 | korostyshiv\n",
      "Processing Record 289 | isangel\n",
      "City not found. Skipping...\n",
      "Processing Record 290 | srednekolymsk\n",
      "Processing Record 291 | totness\n",
      "Processing Record 292 | pisco\n",
      "Processing Record 293 | mega\n",
      "City not found. Skipping...\n",
      "Processing Record 294 | antofagasta\n",
      "Processing Record 295 | cabo san lucas\n",
      "Processing Record 296 | bacabal\n",
      "Processing Record 297 | jales\n",
      "City not found. Skipping...\n",
      "Processing Record 298 | lorengau\n",
      "Processing Record 299 | kysyl-syr\n",
      "Processing Record 300 | kandrian\n",
      "Processing Record 301 | burnie\n",
      "Processing Record 302 | uran\n",
      "Processing Record 303 | berdigestyakh\n",
      "Processing Record 304 | kupang\n",
      "Processing Record 305 | khash\n",
      "Processing Record 306 | asbury park\n",
      "Processing Record 307 | port blair\n",
      "Processing Record 308 | tessalit\n",
      "Processing Record 309 | itarema\n",
      "Processing Record 310 | bundaberg\n",
      "Processing Record 311 | broome\n",
      "Processing Record 312 | wencheng\n",
      "Processing Record 313 | kabinda\n",
      "Processing Record 314 | bengkulu\n",
      "City not found. Skipping...\n",
      "Processing Record 315 | zyryanka\n",
      "Processing Record 316 | khasan\n",
      "Processing Record 317 | ambatondrazaka\n",
      "Processing Record 318 | sioux lookout\n",
      "Processing Record 319 | jiazi\n",
      "Processing Record 320 | nizhniy odes\n",
      "Processing Record 321 | assare\n",
      "Processing Record 322 | yulara\n",
      "Processing Record 323 | oskarshamn\n",
      "Processing Record 324 | bara\n",
      "Processing Record 325 | teknaf\n",
      "Processing Record 326 | berberati\n",
      "Processing Record 327 | nechi\n",
      "Processing Record 328 | cayenne\n",
      "Processing Record 329 | lompoc\n",
      "Processing Record 330 | golden\n",
      "Processing Record 331 | imbituba\n",
      "Processing Record 332 | denpasar\n",
      "Processing Record 333 | parabel\n",
      "Processing Record 334 | cody\n",
      "Processing Record 335 | faanui\n",
      "Processing Record 336 | zeya\n",
      "Processing Record 337 | murmashi\n",
      "Processing Record 338 | biak\n",
      "Processing Record 339 | haines junction\n",
      "Processing Record 340 | uni\n",
      "Processing Record 341 | banyo\n",
      "Processing Record 342 | unai\n",
      "Processing Record 343 | medyn\n",
      "Processing Record 344 | imbituva\n",
      "Processing Record 345 | hambantota\n",
      "Processing Record 346 | manokwari\n",
      "Processing Record 347 | okhotsk\n",
      "Processing Record 348 | port moresby\n",
      "City not found. Skipping...\n",
      "Processing Record 349 | les herbiers\n",
      "Processing Record 350 | batagay\n",
      "Processing Record 351 | terra santa\n",
      "Processing Record 352 | lahad datu\n",
      "Processing Record 353 | saint-augustin\n",
      "City not found. Skipping...\n",
      "Processing Record 354 | harwich\n",
      "Processing Record 355 | madera\n",
      "Processing Record 356 | port hardy\n",
      "Processing Record 357 | acarau\n",
      "Processing Record 358 | zabol\n",
      "Processing Record 359 | nouadhibou\n",
      "City not found. Skipping...\n",
      "Processing Record 360 | lokosovo\n",
      "Processing Record 361 | ilulissat\n",
      "City not found. Skipping...\n",
      "Processing Record 362 | vila velha\n",
      "Processing Record 363 | chlorakas\n",
      "Processing Record 364 | maltahohe\n",
      "Processing Record 365 | yakeshi\n",
      "Processing Record 366 | ca mau\n",
      "Processing Record 367 | zhumadian\n",
      "Processing Record 368 | talnakh\n",
      "Processing Record 369 | flinders\n",
      "Processing Record 370 | kvarkeno\n",
      "Processing Record 371 | magan\n",
      "Processing Record 372 | matagami\n",
      "Processing Record 373 | hasaki\n",
      "Processing Record 374 | jerantut\n",
      "Processing Record 375 | orlovskiy\n",
      "Processing Record 376 | bossier city\n",
      "Processing Record 377 | mazagao\n",
      "Processing Record 378 | brindisi\n",
      "Processing Record 379 | sassandra\n",
      "Processing Record 380 | skjervoy\n",
      "Processing Record 381 | jacareacanga\n",
      "Processing Record 382 | takoradi\n",
      "Processing Record 383 | pajapan\n",
      "Processing Record 384 | dakoro\n",
      "Processing Record 385 | taua\n",
      "Processing Record 386 | neiafu\n",
      "Processing Record 387 | carutapera\n",
      "Processing Record 388 | kurchum\n",
      "Processing Record 389 | la paz\n",
      "Processing Record 390 | asfi\n",
      "Processing Record 391 | genhe\n",
      "Processing Record 392 | koungou\n",
      "Processing Record 393 | coolum beach\n",
      "Processing Record 394 | faya\n",
      "Processing Record 395 | tsevie\n",
      "Processing Record 396 | deputatskiy\n",
      "Processing Record 397 | dunedin\n",
      "Processing Record 398 | dobsice\n",
      "Processing Record 399 | lae\n",
      "Processing Record 400 | tingo maria\n",
      "Processing Record 401 | teya\n",
      "Processing Record 402 | nicolas bravo\n",
      "Processing Record 403 | hermagor\n",
      "Processing Record 404 | goderich\n",
      "Processing Record 405 | champerico\n",
      "Processing Record 406 | labuhan\n",
      "Processing Record 407 | pankovka\n",
      "Processing Record 408 | uvelskiy\n",
      "Processing Record 409 | acapulco\n",
      "Processing Record 410 | adrar\n",
      "Processing Record 411 | drayton valley\n",
      "City not found. Skipping...\n",
      "City not found. Skipping...\n",
      "Processing Record 412 | ubatuba\n",
      "Processing Record 413 | hualmay\n",
      "Processing Record 414 | sena madureira\n",
      "Processing Record 415 | marathon\n",
      "Processing Record 416 | marsh harbour\n",
      "Processing Record 417 | bay roberts\n",
      "Processing Record 418 | tilichiki\n",
      "Processing Record 419 | santa maria\n",
      "City not found. Skipping...\n",
      "Processing Record 420 | mikuni\n",
      "Processing Record 421 | hede\n",
      "Processing Record 422 | seybaplaya\n",
      "Processing Record 423 | avera\n",
      "Processing Record 424 | bambanglipuro\n",
      "Processing Record 425 | pouebo\n",
      "Processing Record 426 | sunrise manor\n",
      "Processing Record 427 | juneau\n",
      "Processing Record 428 | maningrida\n",
      "Processing Record 429 | hojai\n",
      "Processing Record 430 | chunskiy\n",
      "Processing Record 431 | hami\n",
      "Processing Record 432 | araouane\n",
      "Processing Record 433 | saint anthony\n",
      "Processing Record 434 | chumikan\n",
      "Processing Record 435 | refojos de basto\n",
      "Processing Record 436 | banjar\n",
      "Processing Record 437 | pedasi\n",
      "Processing Record 438 | kasempa\n",
      "Processing Record 439 | alugan\n",
      "City not found. Skipping...\n",
      "Processing Record 440 | teresina\n",
      "Processing Record 441 | inhambane\n",
      "Processing Record 442 | ortigueira\n",
      "Processing Record 443 | deniliquin\n",
      "Processing Record 444 | moncao\n",
      "Processing Record 445 | santa lucia\n",
      "Processing Record 446 | guarapari\n",
      "City not found. Skipping...\n",
      "Processing Record 447 | khilok\n",
      "Processing Record 448 | terney\n",
      "Processing Record 449 | dongzhen\n",
      "Processing Record 450 | sur\n",
      "Processing Record 451 | gao\n",
      "Processing Record 452 | cap malheureux\n",
      "Processing Record 453 | synya\n",
      "Processing Record 454 | krasnoselkup\n",
      "Processing Record 455 | grindavik\n",
      "Processing Record 456 | evensk\n",
      "Processing Record 457 | margate\n",
      "City not found. Skipping...\n",
      "Processing Record 458 | khani\n",
      "Processing Record 459 | karratha\n",
      "Processing Record 460 | rayevskiy\n",
      "Processing Record 461 | ratnagiri\n",
      "Processing Record 462 | vao\n",
      "Processing Record 463 | daru\n",
      "Processing Record 464 | hamilton\n",
      "Processing Record 465 | iringa\n",
      "Processing Record 466 | albertville\n",
      "Processing Record 467 | isla mujeres\n",
      "Processing Record 468 | coihaique\n",
      "City not found. Skipping...\n",
      "Processing Record 469 | codrington\n"
     ]
    },
    {
     "name": "stdout",
     "output_type": "stream",
     "text": [
      "Processing Record 470 | spitsevka\n",
      "City not found. Skipping...\n",
      "Processing Record 471 | acajutla\n",
      "Processing Record 472 | seoul\n",
      "Processing Record 473 | oranjemund\n",
      "Processing Record 474 | high level\n",
      "Processing Record 475 | nishihara\n",
      "Processing Record 476 | roald\n",
      "Processing Record 477 | kaiu\n",
      "Processing Record 478 | mogok\n",
      "City not found. Skipping...\n",
      "Processing Record 479 | harper\n",
      "Processing Record 480 | zima\n",
      "Processing Record 481 | tyukhtet\n",
      "Processing Record 482 | huaiyuan\n",
      "Processing Record 483 | bubaque\n",
      "City not found. Skipping...\n",
      "Processing Record 484 | angoram\n",
      "Processing Record 485 | rocha\n",
      "Processing Record 486 | ucluelet\n",
      "Processing Record 487 | goundam\n",
      "Processing Record 488 | mayumba\n",
      "Processing Record 489 | ewa beach\n",
      "Processing Record 490 | yerbogachen\n",
      "Processing Record 491 | ayan\n",
      "Processing Record 492 | medicine hat\n",
      "City not found. Skipping...\n",
      "Processing Record 493 | bilma\n",
      "Processing Record 494 | lastoursville\n",
      "Processing Record 495 | kathu\n",
      "Processing Record 496 | pilar\n",
      "Processing Record 497 | general roca\n",
      "Processing Record 498 | badarpur\n",
      "Processing Record 499 | coquimbo\n",
      "City not found. Skipping...\n",
      "Processing Record 500 | lodja\n",
      "Processing Record 501 | yining\n",
      "Processing Record 502 | ostrovnoy\n",
      "Processing Record 503 | yuci\n",
      "Processing Record 504 | bure\n",
      "City not found. Skipping...\n",
      "Processing Record 505 | ketchikan\n",
      "Processing Record 506 | miandrivazo\n",
      "Processing Record 507 | neustrelitz\n",
      "Processing Record 508 | katangli\n",
      "Processing Record 509 | zhangzhou\n",
      "Processing Record 510 | esso\n",
      "Processing Record 511 | praya\n",
      "Processing Record 512 | ozernovskiy\n",
      "Processing Record 513 | nastola\n",
      "Processing Record 514 | sao felix do xingu\n",
      "Processing Record 515 | ahuimanu\n",
      "Processing Record 516 | malindi\n",
      "Processing Record 517 | luanda\n",
      "Processing Record 518 | abancay\n",
      "Processing Record 519 | boffa\n",
      "Processing Record 520 | egvekinot\n",
      "Processing Record 521 | guiratinga\n",
      "City not found. Skipping...\n",
      "Processing Record 522 | fonte boa\n",
      "Processing Record 523 | diban\n",
      "Processing Record 524 | ayr\n",
      "Processing Record 525 | gari\n",
      "Processing Record 526 | wuwei\n",
      "Processing Record 527 | hailar\n",
      "Processing Record 528 | mana\n",
      "Processing Record 529 | fernley\n",
      "Processing Record 530 | khuzhir\n",
      "City not found. Skipping...\n",
      "Processing Record 531 | oistins\n",
      "Processing Record 532 | el jicaro\n",
      "Processing Record 533 | olga\n",
      "Processing Record 534 | bathsheba\n",
      "Processing Record 535 | rafai\n",
      "Processing Record 536 | teguise\n",
      "Processing Record 537 | henties bay\n",
      "Processing Record 538 | moorhead\n",
      "Processing Record 539 | beruwala\n",
      "Processing Record 540 | el playon\n",
      "Processing Record 541 | tevaitoa\n",
      "Processing Record 542 | qasigiannguit\n",
      "Processing Record 543 | jakarta\n",
      "Processing Record 544 | khoy\n",
      "Processing Record 545 | charters towers\n",
      "Processing Record 546 | oleiros\n",
      "City not found. Skipping...\n",
      "Processing Record 547 | nome\n",
      "Processing Record 548 | pacific grove\n",
      "Processing Record 549 | date\n",
      "Processing Record 550 | aksu\n",
      "Processing Record 551 | half moon bay\n",
      "Processing Record 552 | muros\n",
      "Processing Record 553 | gizo\n",
      "Processing Record 554 | bogolyubovo\n",
      "City not found. Skipping...\n",
      "Processing Record 555 | havre-saint-pierre\n",
      "Processing Record 556 | salinas\n",
      "Processing Record 557 | gilgit\n",
      "Processing Record 558 | tena\n"
     ]
    }
   ],
   "source": [
    "# Set empty lists to hold city and stats \n",
    "city_loop = []\n",
    "Lats = []\n",
    "Lons = []\n",
    "Max_Temps = []\n",
    "Humidities = []\n",
    "Clouds = []\n",
    "Dates = []\n",
    "Wind_speeds = []\n",
    "Countries = []\n",
    "counter = 0\n",
    "\n",
    "# Loop through each city\n",
    "for city in cities:\n",
    "    \n",
    "    # Try to grab needed variables \n",
    "    try:\n",
    "        time.sleep(1)\n",
    "        requestString = query_url + city\n",
    "        weather_json = requests.get(requestString).json()\n",
    "        Lats.append(weather_json['coord']['lat'])\n",
    "        Lons.append(weather_json['coord']['lon'])\n",
    "        Max_Temps.append(weather_json['main']['temp_max'])\n",
    "        Humidities.append(weather_json['main']['humidity'])\n",
    "        Clouds.append(weather_json['clouds']['all'])\n",
    "        Dates.append(weather_json['dt'])\n",
    "        Wind_speeds.append(weather_json['wind']['speed'])\n",
    "        Countries.append(weather_json['sys']['country'])\n",
    "        city_loop.append(city)\n",
    "        counter = counter + 1\n",
    "        print(f\"Processing Record {counter} | {city}\")\n",
    "\n",
    "    # Handle exceptions for a character that is not available in the city list\n",
    "    except:\n",
    "        # Append null values\n",
    "        print(\"City not found. Skipping...\")\n",
    "#         pass"
   ]
  },
  {
   "cell_type": "markdown",
   "metadata": {},
   "source": [
    "### Convert Raw Data to DataFrame\n",
    "* Export the city data into a .csv.\n",
    "* Display the DataFrame"
   ]
  },
  {
   "cell_type": "code",
   "execution_count": 104,
   "metadata": {},
   "outputs": [
    {
     "data": {
      "text/html": [
       "<div>\n",
       "<style scoped>\n",
       "    .dataframe tbody tr th:only-of-type {\n",
       "        vertical-align: middle;\n",
       "    }\n",
       "\n",
       "    .dataframe tbody tr th {\n",
       "        vertical-align: top;\n",
       "    }\n",
       "\n",
       "    .dataframe thead th {\n",
       "        text-align: right;\n",
       "    }\n",
       "</style>\n",
       "<table border=\"1\" class=\"dataframe\">\n",
       "  <thead>\n",
       "    <tr style=\"text-align: right;\">\n",
       "      <th></th>\n",
       "      <th>City</th>\n",
       "      <th>Lat</th>\n",
       "      <th>Lng</th>\n",
       "      <th>Max Temp</th>\n",
       "      <th>Humidity</th>\n",
       "      <th>Cloudiness</th>\n",
       "      <th>Wind Speed</th>\n",
       "      <th>Country</th>\n",
       "      <th>Date</th>\n",
       "    </tr>\n",
       "  </thead>\n",
       "  <tbody>\n",
       "    <tr>\n",
       "      <th>0</th>\n",
       "      <td>antsohihy</td>\n",
       "      <td>-14.8796</td>\n",
       "      <td>47.9875</td>\n",
       "      <td>74.41</td>\n",
       "      <td>93</td>\n",
       "      <td>91</td>\n",
       "      <td>2.73</td>\n",
       "      <td>MG</td>\n",
       "      <td>1612838887</td>\n",
       "    </tr>\n",
       "    <tr>\n",
       "      <th>1</th>\n",
       "      <td>avarua</td>\n",
       "      <td>-21.2078</td>\n",
       "      <td>-159.7750</td>\n",
       "      <td>84.20</td>\n",
       "      <td>74</td>\n",
       "      <td>40</td>\n",
       "      <td>6.91</td>\n",
       "      <td>CK</td>\n",
       "      <td>1612838888</td>\n",
       "    </tr>\n",
       "    <tr>\n",
       "      <th>2</th>\n",
       "      <td>bluff</td>\n",
       "      <td>-46.6000</td>\n",
       "      <td>168.3333</td>\n",
       "      <td>54.43</td>\n",
       "      <td>87</td>\n",
       "      <td>100</td>\n",
       "      <td>11.68</td>\n",
       "      <td>NZ</td>\n",
       "      <td>1612838632</td>\n",
       "    </tr>\n",
       "    <tr>\n",
       "      <th>3</th>\n",
       "      <td>hithadhoo</td>\n",
       "      <td>-0.6000</td>\n",
       "      <td>73.0833</td>\n",
       "      <td>82.54</td>\n",
       "      <td>79</td>\n",
       "      <td>100</td>\n",
       "      <td>11.70</td>\n",
       "      <td>MV</td>\n",
       "      <td>1612838890</td>\n",
       "    </tr>\n",
       "    <tr>\n",
       "      <th>4</th>\n",
       "      <td>atuona</td>\n",
       "      <td>-9.8000</td>\n",
       "      <td>-139.0333</td>\n",
       "      <td>79.56</td>\n",
       "      <td>78</td>\n",
       "      <td>99</td>\n",
       "      <td>18.81</td>\n",
       "      <td>PF</td>\n",
       "      <td>1612838892</td>\n",
       "    </tr>\n",
       "    <tr>\n",
       "      <th>...</th>\n",
       "      <td>...</td>\n",
       "      <td>...</td>\n",
       "      <td>...</td>\n",
       "      <td>...</td>\n",
       "      <td>...</td>\n",
       "      <td>...</td>\n",
       "      <td>...</td>\n",
       "      <td>...</td>\n",
       "      <td>...</td>\n",
       "    </tr>\n",
       "    <tr>\n",
       "      <th>553</th>\n",
       "      <td>bogolyubovo</td>\n",
       "      <td>56.1956</td>\n",
       "      <td>40.5297</td>\n",
       "      <td>-9.87</td>\n",
       "      <td>84</td>\n",
       "      <td>3</td>\n",
       "      <td>3.40</td>\n",
       "      <td>RU</td>\n",
       "      <td>1612839521</td>\n",
       "    </tr>\n",
       "    <tr>\n",
       "      <th>554</th>\n",
       "      <td>havre-saint-pierre</td>\n",
       "      <td>50.2334</td>\n",
       "      <td>-63.5986</td>\n",
       "      <td>21.20</td>\n",
       "      <td>68</td>\n",
       "      <td>90</td>\n",
       "      <td>12.66</td>\n",
       "      <td>CA</td>\n",
       "      <td>1612839454</td>\n",
       "    </tr>\n",
       "    <tr>\n",
       "      <th>555</th>\n",
       "      <td>salinas</td>\n",
       "      <td>36.6777</td>\n",
       "      <td>-121.6555</td>\n",
       "      <td>51.80</td>\n",
       "      <td>82</td>\n",
       "      <td>90</td>\n",
       "      <td>6.91</td>\n",
       "      <td>US</td>\n",
       "      <td>1612839334</td>\n",
       "    </tr>\n",
       "    <tr>\n",
       "      <th>556</th>\n",
       "      <td>gilgit</td>\n",
       "      <td>35.9221</td>\n",
       "      <td>74.3087</td>\n",
       "      <td>41.43</td>\n",
       "      <td>50</td>\n",
       "      <td>19</td>\n",
       "      <td>3.11</td>\n",
       "      <td>PK</td>\n",
       "      <td>1612839526</td>\n",
       "    </tr>\n",
       "    <tr>\n",
       "      <th>557</th>\n",
       "      <td>tena</td>\n",
       "      <td>-0.9833</td>\n",
       "      <td>-77.8167</td>\n",
       "      <td>73.02</td>\n",
       "      <td>84</td>\n",
       "      <td>100</td>\n",
       "      <td>2.17</td>\n",
       "      <td>EC</td>\n",
       "      <td>1612839527</td>\n",
       "    </tr>\n",
       "  </tbody>\n",
       "</table>\n",
       "<p>558 rows × 9 columns</p>\n",
       "</div>"
      ],
      "text/plain": [
       "                   City      Lat       Lng  Max Temp  Humidity  Cloudiness  \\\n",
       "0             antsohihy -14.8796   47.9875     74.41        93          91   \n",
       "1                avarua -21.2078 -159.7750     84.20        74          40   \n",
       "2                 bluff -46.6000  168.3333     54.43        87         100   \n",
       "3             hithadhoo  -0.6000   73.0833     82.54        79         100   \n",
       "4                atuona  -9.8000 -139.0333     79.56        78          99   \n",
       "..                  ...      ...       ...       ...       ...         ...   \n",
       "553         bogolyubovo  56.1956   40.5297     -9.87        84           3   \n",
       "554  havre-saint-pierre  50.2334  -63.5986     21.20        68          90   \n",
       "555             salinas  36.6777 -121.6555     51.80        82          90   \n",
       "556              gilgit  35.9221   74.3087     41.43        50          19   \n",
       "557                tena  -0.9833  -77.8167     73.02        84         100   \n",
       "\n",
       "     Wind Speed Country        Date  \n",
       "0          2.73      MG  1612838887  \n",
       "1          6.91      CK  1612838888  \n",
       "2         11.68      NZ  1612838632  \n",
       "3         11.70      MV  1612838890  \n",
       "4         18.81      PF  1612838892  \n",
       "..          ...     ...         ...  \n",
       "553        3.40      RU  1612839521  \n",
       "554       12.66      CA  1612839454  \n",
       "555        6.91      US  1612839334  \n",
       "556        3.11      PK  1612839526  \n",
       "557        2.17      EC  1612839527  \n",
       "\n",
       "[558 rows x 9 columns]"
      ]
     },
     "execution_count": 104,
     "metadata": {},
     "output_type": "execute_result"
    }
   ],
   "source": [
    "#create table\n",
    "city_summary = {\"City\":city_loop, \"Lat\":Lats, \"Lng\": Lons, \"Max Temp\":Max_Temps, \"Humidity\": Humidities, \"Cloudiness\": Clouds, \"Wind Speed\": Wind_speeds, \"Country\": Countries, \"Date\": Dates}\n",
    "city_summary_df = pd.DataFrame(city_summary)\n",
    "city_summary_df"
   ]
  },
  {
   "cell_type": "code",
   "execution_count": 105,
   "metadata": {},
   "outputs": [
    {
     "data": {
      "text/html": [
       "<div>\n",
       "<style scoped>\n",
       "    .dataframe tbody tr th:only-of-type {\n",
       "        vertical-align: middle;\n",
       "    }\n",
       "\n",
       "    .dataframe tbody tr th {\n",
       "        vertical-align: top;\n",
       "    }\n",
       "\n",
       "    .dataframe thead th {\n",
       "        text-align: right;\n",
       "    }\n",
       "</style>\n",
       "<table border=\"1\" class=\"dataframe\">\n",
       "  <thead>\n",
       "    <tr style=\"text-align: right;\">\n",
       "      <th></th>\n",
       "      <th>Lat</th>\n",
       "      <th>Lng</th>\n",
       "      <th>Max Temp</th>\n",
       "      <th>Humidity</th>\n",
       "      <th>Cloudiness</th>\n",
       "      <th>Wind Speed</th>\n",
       "      <th>Date</th>\n",
       "    </tr>\n",
       "  </thead>\n",
       "  <tbody>\n",
       "    <tr>\n",
       "      <th>count</th>\n",
       "      <td>558.000000</td>\n",
       "      <td>558.000000</td>\n",
       "      <td>558.000000</td>\n",
       "      <td>558.000000</td>\n",
       "      <td>558.000000</td>\n",
       "      <td>558.000000</td>\n",
       "      <td>5.580000e+02</td>\n",
       "    </tr>\n",
       "    <tr>\n",
       "      <th>mean</th>\n",
       "      <td>19.986194</td>\n",
       "      <td>18.330516</td>\n",
       "      <td>48.569659</td>\n",
       "      <td>73.216846</td>\n",
       "      <td>53.503584</td>\n",
       "      <td>7.845878</td>\n",
       "      <td>1.612839e+09</td>\n",
       "    </tr>\n",
       "    <tr>\n",
       "      <th>std</th>\n",
       "      <td>32.708745</td>\n",
       "      <td>92.985627</td>\n",
       "      <td>32.766414</td>\n",
       "      <td>19.423780</td>\n",
       "      <td>40.592725</td>\n",
       "      <td>5.289767</td>\n",
       "      <td>2.161546e+02</td>\n",
       "    </tr>\n",
       "    <tr>\n",
       "      <th>min</th>\n",
       "      <td>-54.800000</td>\n",
       "      <td>-179.166700</td>\n",
       "      <td>-43.600000</td>\n",
       "      <td>7.000000</td>\n",
       "      <td>0.000000</td>\n",
       "      <td>0.090000</td>\n",
       "      <td>1.612838e+09</td>\n",
       "    </tr>\n",
       "    <tr>\n",
       "      <th>max</th>\n",
       "      <td>78.218600</td>\n",
       "      <td>179.316700</td>\n",
       "      <td>98.600000</td>\n",
       "      <td>100.000000</td>\n",
       "      <td>100.000000</td>\n",
       "      <td>31.070000</td>\n",
       "      <td>1.612840e+09</td>\n",
       "    </tr>\n",
       "  </tbody>\n",
       "</table>\n",
       "</div>"
      ],
      "text/plain": [
       "              Lat         Lng    Max Temp    Humidity  Cloudiness  Wind Speed  \\\n",
       "count  558.000000  558.000000  558.000000  558.000000  558.000000  558.000000   \n",
       "mean    19.986194   18.330516   48.569659   73.216846   53.503584    7.845878   \n",
       "std     32.708745   92.985627   32.766414   19.423780   40.592725    5.289767   \n",
       "min    -54.800000 -179.166700  -43.600000    7.000000    0.000000    0.090000   \n",
       "max     78.218600  179.316700   98.600000  100.000000  100.000000   31.070000   \n",
       "\n",
       "               Date  \n",
       "count  5.580000e+02  \n",
       "mean   1.612839e+09  \n",
       "std    2.161546e+02  \n",
       "min    1.612838e+09  \n",
       "max    1.612840e+09  "
      ]
     },
     "execution_count": 105,
     "metadata": {},
     "output_type": "execute_result"
    }
   ],
   "source": [
    "#stats table\n",
    "city_stats_df= city_summary_df[[\"Lat\", \"Lng\", \"Max Temp\", \"Humidity\", \"Cloudiness\", \"Wind Speed\", \"Date\"]].agg(['count','mean', 'std', 'min',  'max'])\n",
    "city_stats_df"
   ]
  },
  {
   "cell_type": "markdown",
   "metadata": {},
   "source": [
    "## Inspect the data and remove the cities where the humidity > 100%.\n",
    "----\n",
    "Skip this step if there are no cities that have humidity > 100%. "
   ]
  },
  {
   "cell_type": "code",
   "execution_count": 106,
   "metadata": {},
   "outputs": [],
   "source": [
    "#can skip as no humidity is over 100"
   ]
  },
  {
   "cell_type": "code",
   "execution_count": 107,
   "metadata": {},
   "outputs": [],
   "source": [
    "#  Get the indices of cities that have humidity over 100%.\n"
   ]
  },
  {
   "cell_type": "code",
   "execution_count": 108,
   "metadata": {},
   "outputs": [],
   "source": [
    "# Make a new DataFrame equal to the city data to drop all humidity outliers by index.\n",
    "# Passing \"inplace=False\" will make a copy of the city_data DataFrame, which we call \"clean_city_data\".\n"
   ]
  },
  {
   "cell_type": "code",
   "execution_count": 109,
   "metadata": {},
   "outputs": [],
   "source": [
    "#save to csv\n",
    "city_summary_df.to_csv(\"city_summary_df.csv\", encoding=\"utf-8\", index=False)\n"
   ]
  },
  {
   "cell_type": "markdown",
   "metadata": {},
   "source": [
    "## Plotting the Data\n",
    "* Use proper labeling of the plots using plot titles (including date of analysis) and axes labels.\n",
    "* Save the plotted figures as .pngs."
   ]
  },
  {
   "cell_type": "markdown",
   "metadata": {},
   "source": [
    "## Latitude vs. Temperature Plot"
   ]
  },
  {
   "cell_type": "code",
   "execution_count": 110,
   "metadata": {},
   "outputs": [
    {
     "data": {
      "image/png": "[encoded data removed]",
      "text/plain": [
       "<Figure size 432x288 with 1 Axes>"
      ]
     },
     "metadata": {
      "needs_background": "light"
     },
     "output_type": "display_data"
    }
   ],
   "source": [
    "plt.scatter(city_summary_df[\"Lat\"], city_summary_df [\"Max Temp\"])\n",
    "plt.title(\"Latitude vs Temp\")\n",
    "plt.xlabel(\"Latitude\")\n",
    "plt.ylabel(\"Max Temperature\")\n",
    "plt.grid (b=True,which=\"major\",axis=\"both\",linestyle=\"-\",color=\"black\")\n",
    "plt.savefig(\"Figures/LatTemp.png\")\n",
    "plt.show()"
   ]
  },
  {
   "cell_type": "markdown",
   "metadata": {},
   "source": [
    "This scatterplot is telling us that the as you get closed to the equator (Lat 0) the higher the temperature and dips lower the further you go. "
   ]
  },
  {
   "cell_type": "markdown",
   "metadata": {},
   "source": [
    "## Latitude vs. Humidity Plot"
   ]
  },
  {
   "cell_type": "code",
   "execution_count": 111,
   "metadata": {},
   "outputs": [
    {
     "data": {
      "image/png": "[encoded data removed]",
      "text/plain": [
       "<Figure size 432x288 with 1 Axes>"
      ]
     },
     "metadata": {
      "needs_background": "light"
     },
     "output_type": "display_data"
    }
   ],
   "source": [
    "plt.scatter(city_summary_df[\"Lat\"], city_summary_df [\"Humidity\"])\n",
    "plt.title(\"Latitude vs Humidity\")\n",
    "plt.xlabel(\"Latitude\")\n",
    "plt.ylabel(\"Humidity\")\n",
    "plt.grid (b=True,which=\"major\",axis=\"both\",linestyle=\"-\",color=\"black\")\n",
    "plt.savefig(\"Figures/LatHumidity.png\")\n",
    "plt.show()"
   ]
  },
  {
   "cell_type": "raw",
   "metadata": {},
   "source": [
    "This scatterplot is telling us there is loose correlation between humidity and latitude but closer to the equator, the more likely for it to be quite humid. "
   ]
  },
  {
   "cell_type": "markdown",
   "metadata": {},
   "source": [
    "## Latitude vs. Cloudiness Plot"
   ]
  },
  {
   "cell_type": "code",
   "execution_count": 112,
   "metadata": {},
   "outputs": [
    {
     "data": {
      "image/png": "[encoded data removed]",
      "text/plain": [
       "<Figure size 432x288 with 1 Axes>"
      ]
     },
     "metadata": {
      "needs_background": "light"
     },
     "output_type": "display_data"
    }
   ],
   "source": [
    "plt.scatter(city_summary_df[\"Lat\"], city_summary_df [\"Cloudiness\"])\n",
    "plt.title(\"Latitude vs Cloudiness\")\n",
    "plt.xlabel(\"Latitude\")\n",
    "plt.ylabel(\"Cloudiness\")\n",
    "plt.grid (b=True,which=\"major\",axis=\"both\",linestyle=\"-\",color=\"black\")\n",
    "plt.savefig(\"Figures/LatitudeCloud.png\")\n",
    "plt.show()"
   ]
  },
  {
   "cell_type": "markdown",
   "metadata": {},
   "source": [
    "This scatterplt is showing no correlation between latitude and cloudiness. "
   ]
  },
  {
   "cell_type": "markdown",
   "metadata": {},
   "source": [
    "## Latitude vs. Wind Speed Plot"
   ]
  },
  {
   "cell_type": "code",
   "execution_count": 113,
   "metadata": {},
   "outputs": [
    {
     "data": {
      "image/png": "[encoded data removed]",
      "text/plain": [
       "<Figure size 432x288 with 1 Axes>"
      ]
     },
     "metadata": {
      "needs_background": "light"
     },
     "output_type": "display_data"
    }
   ],
   "source": [
    "plt.scatter(city_summary_df[\"Lat\"], city_summary_df [\"Wind Speed\"])\n",
    "plt.title(\"Latitude vs Wind Speed\")\n",
    "plt.xlabel(\"Latitude\")\n",
    "plt.ylabel(\"Wind Speed\")\n",
    "plt.grid (b=True,which=\"major\",axis=\"both\",linestyle=\"-\",color=\"black\")\n",
    "plt.savefig(\"Figures/LatitudeWind.png\")\n",
    "plt.show()"
   ]
  },
  {
   "cell_type": "markdown",
   "metadata": {},
   "source": [
    "This scatterplot is showing us there is loose correlation between latitude and wind speed, but slightly more likely to chance for higher wind speed the futher from the equator you go. "
   ]
  },
  {
   "cell_type": "markdown",
   "metadata": {},
   "source": []
  },
  {
   "cell_type": "markdown",
   "metadata": {},
   "source": [
    "####  Northern Hemisphere - Max Temp vs. Latitude Linear Regression"
   ]
  },
  {
   "cell_type": "code",
   "execution_count": 114,
   "metadata": {},
   "outputs": [],
   "source": [
    "# #need new df with just latitude 0-90 to tell me northern hemisphere \n",
    "# hem_city_df = city_summary_df[[\"Lat\",\"Max Temp\", \"Cloudiness\", \"Wind Speed\", \"Humidity\"]]\n",
    "# hem_city_df\n",
    "# northern_df = hem_city_df[hem_city_df['Lat']> 0]\n",
    "# #northern_df\n",
    "\n",
    "# southern_df = hem_city_df[hem_city_df['Lat']< 0]\n",
    "# #southern_df\n",
    "# northern_df"
   ]
  },
  {
   "cell_type": "code",
   "execution_count": 115,
   "metadata": {},
   "outputs": [
    {
     "data": {
      "image/png": "[encoded data removed]",
      "text/plain": [
       "<Figure size 432x288 with 1 Axes>"
      ]
     },
     "metadata": {
      "needs_background": "light"
     },
     "output_type": "display_data"
    },
    {
     "name": "stdout",
     "output_type": "stream",
     "text": [
      "The correlation between both factors is -0.88\n",
      "The correlation between Northern temp and latitude is -0.88\n",
      "The r-value is: 0.7657724448881712\n"
     ]
    }
   ],
   "source": [
    "North_Lat = northern_df.iloc[:,0]\n",
    "North_Temp = northern_df.iloc[:,1]\n",
    "\n",
    "# # # Perform a linear regression on volume versus weight\n",
    "slope, intercept, rvalue, pvalue, std_err = st.linregress(North_Lat, North_Temp)\n",
    "\n",
    "      \n",
    "fit = slope * North_Lat + intercept\n",
    "\n",
    "# # Create line equation string\n",
    "line_eq = \"y = \" + str(round(slope,2)) + \"x +\" + str(round(intercept,2))\n",
    "#print(line_eq)\n",
    "\n",
    "# ## Plot the linear model on top of scatter plot \n",
    "plt.scatter(North_Lat,North_Temp)\n",
    "plt.xlabel(\"Latitude\")\n",
    "plt.ylabel(\"Max Temp\")\n",
    "plt.plot(North_Lat,fit,\"--\")\n",
    "plt.annotate(line_eq,(20,15),fontsize=15,color=\"red\")\n",
    "plt.savefig(\"Figures/NorthLatTemp.png\")\n",
    "plt.show()\n",
    "\n",
    "correlation = round(st.pearsonr(North_Temp,North_Lat)[0],2)\n",
    "print(f\"The correlation between both factors is {correlation}\")\n",
    " \n",
    "\n",
    "# # #Caculate\n",
    "corr = round(st.pearsonr(North_Temp,North_Lat)[0],2)\n",
    "print(f'The correlation between Northern temp and latitude is {corr}')\n",
    "\n",
    "# Print r value\n",
    "print(f\"The r-value is: {rvalue**2}\")"
   ]
  },
  {
   "cell_type": "markdown",
   "metadata": {},
   "source": [
    "This is showing us a strong correlation the closer to the equator, the higher the temperature in the nothern hemisphere."
   ]
  },
  {
   "cell_type": "markdown",
   "metadata": {},
   "source": [
    "####  Southern Hemisphere - Max Temp vs. Latitude Linear Regression"
   ]
  },
  {
   "cell_type": "code",
   "execution_count": 116,
   "metadata": {},
   "outputs": [
    {
     "name": "stdout",
     "output_type": "stream",
     "text": [
      "y = 0.38x +81.7\n"
     ]
    },
    {
     "data": {
      "image/png": "[encoded data removed]",
      "text/plain": [
       "<Figure size 432x288 with 1 Axes>"
      ]
     },
     "metadata": {
      "needs_background": "light"
     },
     "output_type": "display_data"
    },
    {
     "name": "stdout",
     "output_type": "stream",
     "text": [
      "The correlation between both factors is 0.6\n",
      "The correlation between southern temp and latitude is 0.6\n",
      "The r-value is: 0.3611412573255109\n"
     ]
    }
   ],
   "source": [
    "South_Lat = southern_df.iloc[:,0]\n",
    "South_Temp = southern_df.iloc[:,1]\n",
    "\n",
    "# # # Perform a linear regression on volume versus weight\n",
    "slope, intercept, rvalue, pvalue, std_err = st.linregress(South_Lat, South_Temp)\n",
    "\n",
    "      \n",
    "fit = slope * South_Lat + intercept\n",
    "\n",
    "# # Create line equation string\n",
    "line_eq = \"y = \" + str(round(slope,2)) + \"x +\" + str(round(intercept,2))\n",
    "print(line_eq)\n",
    "\n",
    "# ## Plot the linear model on top of scatter plot \n",
    "plt.scatter(South_Lat,South_Temp)\n",
    "plt.xlabel(\"Latitude\")\n",
    "plt.ylabel(\"Max Temp\")\n",
    "plt.plot(South_Lat,fit,\"--\")\n",
    "plt.annotate(line_eq,(-20,50),fontsize=15,color=\"red\")\n",
    "plt.savefig(\"Figures/SouthLatTemp.png\")\n",
    "plt.show()\n",
    "\n",
    "correlation = round(st.pearsonr(South_Temp,South_Lat)[0],2)\n",
    "print(f\"The correlation between both factors is {correlation}\")\n",
    " \n",
    "\n",
    "# # #Caculate\n",
    "corr = round(st.pearsonr(South_Temp,South_Lat)[0],2)\n",
    "print(f'The correlation between southern temp and latitude is {corr}')\n",
    "# Print r value\n",
    "print(f\"The r-value is: {rvalue**2}\")"
   ]
  },
  {
   "cell_type": "markdown",
   "metadata": {},
   "source": [
    "This is showing us the closer to the equator, the higher the max temp in southern hemisphere. "
   ]
  },
  {
   "cell_type": "markdown",
   "metadata": {},
   "source": [
    "####  Northern Hemisphere - Humidity (%) vs. Latitude Linear Regression"
   ]
  },
  {
   "cell_type": "code",
   "execution_count": 117,
   "metadata": {},
   "outputs": [
    {
     "data": {
      "image/png": "[encoded data removed]",
      "text/plain": [
       "<Figure size 432x288 with 1 Axes>"
      ]
     },
     "metadata": {
      "needs_background": "light"
     },
     "output_type": "display_data"
    },
    {
     "name": "stdout",
     "output_type": "stream",
     "text": [
      "The correlation between both factors is -0.88\n",
      "The correlation between northern latitude and humidity is -0.37\n",
      "The r-value is: 0.11525604317392973\n"
     ]
    }
   ],
   "source": [
    "North_Lat = northern_df.iloc[:,0]\n",
    "North_Hum = northern_df.iloc[:,4]\n",
    "\n",
    "# # # Perform a linear regression on volume versus weight\n",
    "slope, intercept, rvalue, pvalue, std_err = st.linregress(North_Lat, North_Hum)\n",
    "\n",
    "      \n",
    "fit = slope * North_Lat + intercept\n",
    "\n",
    "# # Create line equation string\n",
    "line_eq = \"y = \" + str(round(slope,2)) + \"x +\" + str(round(intercept,2))\n",
    "#print(line_eq)\n",
    "\n",
    "# ## Plot the linear model on top of scatter plot \n",
    "plt.scatter(North_Lat,North_Hum)\n",
    "plt.xlabel(\"Latitude\")\n",
    "plt.ylabel(\"Humidity\")\n",
    "plt.plot(North_Lat,fit,\"--\")\n",
    "plt.annotate(line_eq,(20,15),fontsize=15,color=\"red\")\n",
    "plt.savefig(\"Figures/NorthLatHum.png\")\n",
    "plt.show()\n",
    "\n",
    "correlation = round(st.pearsonr(North_Temp,North_Lat)[0],2)\n",
    "print(f\"The correlation between both factors is {correlation}\")\n",
    " \n",
    "\n",
    "# # #Caculate\n",
    "corr = round(st.pearsonr(North_Temp,North_Hum)[0],2)\n",
    "print(f'The correlation between northern latitude and humidity is {corr}')\n",
    "# Print r value\n",
    "print(f\"The r-value is: {rvalue**2}\")"
   ]
  },
  {
   "cell_type": "markdown",
   "metadata": {},
   "source": [
    "This is showing us there is little correlation between humidity and latitude in northern hemisphere. What is interesting is the lower humidity values are found closer to the equator, but so are higher humidities. So there must be much variation on the equator. "
   ]
  },
  {
   "cell_type": "markdown",
   "metadata": {},
   "source": [
    "####  Southern Hemisphere - Humidity (%) vs. Latitude Linear Regression"
   ]
  },
  {
   "cell_type": "code",
   "execution_count": 124,
   "metadata": {},
   "outputs": [
    {
     "data": {
      "image/png": "[encoded data removed]",
      "text/plain": [
       "<Figure size 432x288 with 1 Axes>"
      ]
     },
     "metadata": {
      "needs_background": "light"
     },
     "output_type": "display_data"
    },
    {
     "name": "stdout",
     "output_type": "stream",
     "text": [
      "The correlation between both factors is -0.25\n",
      "The correlation between southern lat and humidity is -0.25\n",
      "The r-value is: 0.05542932320579735\n"
     ]
    }
   ],
   "source": [
    "South_Lat = southern_df.iloc[:,0]\n",
    "South_Hum = southern_df.iloc[:,4]\n",
    "\n",
    "# # # Perform a linear regression on volume versus weight\n",
    "slope, intercept, rvalue, pvalue, std_err = st.linregress(South_Lat, South_Hum)\n",
    "\n",
    "      \n",
    "fit = slope * South_Lat + intercept\n",
    "\n",
    "# # Create line equation string\n",
    "line_eq = \"y = \" + str(round(slope,2)) + \"x +\" + str(round(intercept,2))\n",
    "#print(line_eq)\n",
    "\n",
    "# ## Plot the linear model on top of scatter plot \n",
    "plt.scatter(South_Lat,South_Hum)\n",
    "plt.xlabel(\"Latitude\")\n",
    "plt.ylabel(\"Humidity\")\n",
    "plt.plot(South_Lat,fit,\"--\")\n",
    "plt.annotate(line_eq,(-20,50),fontsize=15,color=\"red\")\n",
    "plt.savefig(\"Figures/SouthLatHum.png\")\n",
    "plt.show()\n",
    "\n",
    "correlation = round(st.pearsonr(South_Temp,South_Hum)[0],2)\n",
    "print(f\"The correlation between both factors is {correlation}\")\n",
    " \n",
    "\n",
    "# # # #Caculate\n",
    "corr = round(st.pearsonr(South_Temp,South_Hum)[0],2)\n",
    "print(f'The correlation between southern lat and humidity is {corr}')\n",
    "# Print r value\n",
    "print(f\"The r-value is: {rvalue**2}\")"
   ]
  },
  {
   "cell_type": "markdown",
   "metadata": {},
   "source": [
    "This is showing us there is correlation between humidity and latitude in southern hemisphere, this shows the more humidity the closer to the equator. "
   ]
  },
  {
   "cell_type": "markdown",
   "metadata": {},
   "source": [
    "####  Northern Hemisphere - Cloudiness (%) vs. Latitude Linear Regression"
   ]
  },
  {
   "cell_type": "code",
   "execution_count": 119,
   "metadata": {},
   "outputs": [
    {
     "data": {
      "image/png": "[encoded data removed]",
      "text/plain": [
       "<Figure size 432x288 with 1 Axes>"
      ]
     },
     "metadata": {
      "needs_background": "light"
     },
     "output_type": "display_data"
    },
    {
     "name": "stdout",
     "output_type": "stream",
     "text": [
      "The r-value is: 0.023969199171445955\n"
     ]
    }
   ],
   "source": [
    "North_Lat = northern_df.iloc[:,0]\n",
    "North_Cloud = northern_df.iloc[:,2]\n",
    "\n",
    "# # # Perform a linear regression on volume versus weight\n",
    "slope, intercept, rvalue, pvalue, std_err = st.linregress(North_Lat, North_Cloud)\n",
    "\n",
    "      \n",
    "fit = slope * North_Lat + intercept\n",
    "\n",
    "# # Create line equation string\n",
    "line_eq = \"y = \" + str(round(slope,2)) + \"x +\" + str(round(intercept,2))\n",
    "#print(line_eq)\n",
    "\n",
    "# ## Plot the linear model on top of scatter plot \n",
    "plt.scatter(North_Lat,North_Cloud)\n",
    "plt.xlabel(\"Latitude\")\n",
    "plt.ylabel(\"Cloud %\")\n",
    "plt.plot(North_Lat,fit,\"--\")\n",
    "plt.annotate(line_eq,(20,15),fontsize=15,color=\"red\")\n",
    "plt.savefig(\"Figures/NorthLatCloud.png\")\n",
    "plt.show()\n",
    "# Print r value\n",
    "print(f\"The r-value is: {rvalue**2}\")"
   ]
  },
  {
   "cell_type": "markdown",
   "metadata": {},
   "source": [
    "This shows there is little correlation between clouds and latitude in northern hemisphere. "
   ]
  },
  {
   "cell_type": "markdown",
   "metadata": {},
   "source": [
    "####  Southern Hemisphere - Cloudiness (%) vs. Latitude Linear Regression"
   ]
  },
  {
   "cell_type": "code",
   "execution_count": 120,
   "metadata": {},
   "outputs": [
    {
     "data": {
      "image/png": "[encoded data removed]",
      "text/plain": [
       "<Figure size 432x288 with 1 Axes>"
      ]
     },
     "metadata": {
      "needs_background": "light"
     },
     "output_type": "display_data"
    },
    {
     "name": "stdout",
     "output_type": "stream",
     "text": [
      "The r-value is: 0.14604876292282204\n"
     ]
    }
   ],
   "source": [
    "South_Lat = southern_df.iloc[:,0]\n",
    "South_Cloud = southern_df.iloc[:,2]\n",
    "\n",
    "# # # Perform a linear regression on volume versus weight\n",
    "slope, intercept, rvalue, pvalue, std_err = st.linregress(South_Lat, South_Cloud)\n",
    "\n",
    "      \n",
    "fit = slope * South_Lat + intercept\n",
    "\n",
    "# # Create line equation string\n",
    "line_eq = \"y = \" + str(round(slope,2)) + \"x +\" + str(round(intercept,2))\n",
    "#print(line_eq)\n",
    "\n",
    "# ## Plot the linear model on top of scatter plot \n",
    "plt.scatter(South_Lat,South_Cloud)\n",
    "plt.xlabel(\"Latitude\")\n",
    "plt.ylabel(\"Cloud %\")\n",
    "plt.plot(South_Lat,fit,\"--\")\n",
    "plt.annotate(line_eq,(-20,30),fontsize=15,color=\"red\")\n",
    "plt.savefig(\"Figures/SouthLatCloud.png\")\n",
    "plt.show()\n",
    "# Print r value\n",
    "print(f\"The r-value is: {rvalue**2}\")"
   ]
  },
  {
   "cell_type": "markdown",
   "metadata": {},
   "source": [
    "This shows there is little correlation between clouds and latitude in southern hemisphere. "
   ]
  },
  {
   "cell_type": "markdown",
   "metadata": {},
   "source": [
    "####  Northern Hemisphere - Wind Speed (mph) vs. Latitude Linear Regression"
   ]
  },
  {
   "cell_type": "code",
   "execution_count": 121,
   "metadata": {},
   "outputs": [
    {
     "data": {
      "image/png": "[encoded data removed]",
      "text/plain": [
       "<Figure size 432x288 with 1 Axes>"
      ]
     },
     "metadata": {
      "needs_background": "light"
     },
     "output_type": "display_data"
    },
    {
     "name": "stdout",
     "output_type": "stream",
     "text": [
      "The r-value is: 0.0034790713398405214\n"
     ]
    }
   ],
   "source": [
    "North_Lat = northern_df.iloc[:,0]\n",
    "North_Wind = northern_df.iloc[:,3]\n",
    "\n",
    "# # # Perform a linear regression on volume versus weight\n",
    "slope, intercept, rvalue, pvalue, std_err = st.linregress(North_Lat, North_Wind)\n",
    "\n",
    "      \n",
    "fit = slope * North_Lat + intercept\n",
    "\n",
    "# # Create line equation string\n",
    "line_eq = \"y = \" + str(round(slope,2)) + \"x +\" + str(round(intercept,2))\n",
    "#print(line_eq)\n",
    "\n",
    "# ## Plot the linear model on top of scatter plot \n",
    "plt.scatter(North_Lat,North_Wind)\n",
    "plt.xlabel(\"Latitude\")\n",
    "plt.ylabel(\"Wind Speed\")\n",
    "plt.plot(North_Lat,fit,\"--\")\n",
    "plt.annotate(line_eq,(20,15),fontsize=15,color=\"red\")\n",
    "plt.savefig(\"Figures/NorthLatWind.png\")\n",
    "plt.show()\n",
    "# Print r value\n",
    "print(f\"The r-value is: {rvalue**2}\")"
   ]
  },
  {
   "cell_type": "markdown",
   "metadata": {},
   "source": [
    "This shows there is little correlation between winds and latitude in northern hemisphere except that you can find higher wind speeds further away from equator. "
   ]
  },
  {
   "cell_type": "markdown",
   "metadata": {},
   "source": [
    "####  Southern Hemisphere - Wind Speed (mph) vs. Latitude Linear Regression"
   ]
  },
  {
   "cell_type": "code",
   "execution_count": 132,
   "metadata": {},
   "outputs": [
    {
     "name": "stdout",
     "output_type": "stream",
     "text": [
      "y = -0.08x +5.54\n"
     ]
    },
    {
     "data": {
      "image/png": "[encoded data removed]",
      "text/plain": [
       "<Figure size 432x288 with 1 Axes>"
      ]
     },
     "metadata": {
      "needs_background": "light"
     },
     "output_type": "display_data"
    },
    {
     "name": "stdout",
     "output_type": "stream",
     "text": [
      "The r-value is: 0.04954727543446849\n"
     ]
    }
   ],
   "source": [
    "South_Lat = southern_df.iloc[:,0]\n",
    "South_Wind = southern_df.iloc[:,3]\n",
    "\n",
    "# # # Perform a linear regression on volume versus weight\n",
    "slope, intercept, rvalue, pvalue, std_err = st.linregress(South_Lat, South_Wind)\n",
    "\n",
    "      \n",
    "fit = slope * South_Lat + intercept\n",
    "\n",
    "# # Create line equation string\n",
    "line_eq = \"y = \" + str(round(slope,2)) + \"x +\" + str(round(intercept,2))\n",
    "print(line_eq)\n",
    "\n",
    "# ## Plot the linear model on top of scatter plot \n",
    "plt.scatter(South_Lat,South_Wind)\n",
    "plt.xlabel(\"Latitude\")\n",
    "plt.ylabel(\"Wind Speed\")\n",
    "plt.plot(South_Lat,fit,\"--\")\n",
    "plt.annotate(line_eq,(-40,20),fontsize=15,color=\"red\")\n",
    "#plt.xticks(North_Lat, rotation=90)\n",
    "plt.savefig(\"Figures/SouthLatWind.png\")\n",
    "plt.show()\n",
    "# Print r value\n",
    "print(f\"The r-value is: {rvalue**2}\")"
   ]
  },
  {
   "cell_type": "markdown",
   "metadata": {},
   "source": [
    "This shows there is little correlation between winds and latitude in southern hemisphere."
   ]
  },
  {
   "cell_type": "markdown",
   "metadata": {},
   "source": [
    "## 3 observations: Reviewing the weather data, I see the closer you get to the equator, the higher the temperate. The intersting thing is the difference in corrletion between northern and southern hemisphere. There is a stronger correlation in the northern as the northern is cool. The southern hemisphere shows a looser correlation with some latitues still quite hot. "
   ]
  }
 ],
 "metadata": {
  "anaconda-cloud": {},
  "kernel_info": {
   "name": "python3"
  },
  "kernelspec": {
   "display_name": "Python 3",
   "language": "python",
   "name": "python3"
  },
  "language_info": {
   "codemirror_mode": {
    "name": "ipython",
    "version": 3
   },
   "file_extension": ".py",
   "mimetype": "text/x-python",
   "name": "python",
   "nbconvert_exporter": "python",
   "pygments_lexer": "ipython3",
   "version": "3.8.5"
  },
  "latex_envs": {
   "LaTeX_envs_menu_present": true,
   "autoclose": false,
   "autocomplete": true,
   "bibliofile": "biblio.bib",
   "cite_by": "apalike",
   "current_citInitial": 1,
   "eqLabelWithNumbers": true,
   "eqNumInitial": 1,
   "hotkeys": {
    "equation": "Ctrl-E",
    "itemize": "Ctrl-I"
   },
   "labels_anchors": false,
   "latex_user_defs": false,
   "report_style_numbering": false,
   "user_envs_cfg": false
  },
  "nteract": {
   "version": "0.12.3"
  }
 },
 "nbformat": 4,
 "nbformat_minor": 2
}
